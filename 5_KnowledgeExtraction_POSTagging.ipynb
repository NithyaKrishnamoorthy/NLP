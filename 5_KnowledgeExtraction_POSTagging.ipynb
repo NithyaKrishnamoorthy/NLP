{
 "cells": [
  {
   "cell_type": "markdown",
   "metadata": {},
   "source": [
    "### Lexicon Knowledge Extraction with Sentiment Polarity Computation "
   ]
  },
  {
   "cell_type": "code",
   "execution_count": 261,
   "metadata": {},
   "outputs": [],
   "source": [
    "import nltk\n",
    "from nltk.classify.scikitlearn import SklearnClassifier\n",
    "import pandas as pd\n",
    "from nltk.classify import ClassifierI\n",
    "from nltk.tokenize import word_tokenize\n",
    "from nltk.corpus import stopwords\n",
    "from nltk.stem import WordNetLemmatizer \n",
    "import re\n",
    "import collections\n",
    "from nltk.stem.porter import *"
   ]
  },
  {
   "cell_type": "code",
   "execution_count": 262,
   "metadata": {},
   "outputs": [],
   "source": [
    "all_words = {}\n",
    "documents = []"
   ]
  },
  {
   "cell_type": "code",
   "execution_count": 263,
   "metadata": {},
   "outputs": [],
   "source": [
    "train = pd.read_csv('amazon_cells_labelled.csv')\n"
   ]
  },
  {
   "cell_type": "code",
   "execution_count": 264,
   "metadata": {},
   "outputs": [
    {
     "data": {
      "text/plain": [
       "1    500\n",
       "0    500\n",
       "Name: Label, dtype: int64"
      ]
     },
     "execution_count": 264,
     "metadata": {},
     "output_type": "execute_result"
    }
   ],
   "source": [
    "train.Label.value_counts()"
   ]
  },
  {
   "cell_type": "markdown",
   "metadata": {},
   "source": [
    "### <i><b>Preprocessing the words:</b></i><br>\n",
    "\n",
    "For each data in the selected text dataset:<br>\n",
    "    Preprocess the data to remove noise - <b>Removed special characters and numbers</b><br>\n",
    "    Reduce the word to its original form - <b>Lemmatization</b> <br>\n",
    "    Segment the word if necessary - <b>Tokenization</b> <br>\n",
    "    Tag the Part Of Speech - <b>POS tagging</b><br>\n",
    "    Removed stop words and high frequency words<br>\n",
    "<br>"
   ]
  },
  {
   "cell_type": "code",
   "execution_count": 265,
   "metadata": {},
   "outputs": [],
   "source": [
    "def calc_polarityscore(sw,ocrp,ocrn):\n",
    "    t1 = ocrn+1\n",
    "    t2 = ocrp+1\n",
    "\n",
    "    polarityscore = ((float(sw) ** float(t1)) - (float(sw) ** float(t2)) ) / (1 - float(sw))\n",
    "    return polarityscore"
   ]
  },
  {
   "cell_type": "code",
   "execution_count": 266,
   "metadata": {},
   "outputs": [],
   "source": [
    "stop_words = list(set(stopwords.words('english')))\n",
    "st = WordNetLemmatizer()\n",
    "freq = pd.Series(' '.join(train['Comment']).split()).value_counts()[:10]\n",
    "\n",
    "sentiment = {}\n",
    "tokenizedComment = []\n",
    "\n",
    "def preprocessText(document):\n",
    "    cleaned = re.sub(r'[^(a-zA-Z)\\s]',' ', document)\n",
    "    \n",
    "    #cleaned = cleaned.lower()\n",
    "    \n",
    "    #lemmatize the comment\n",
    "    lemmatized = st.lemmatize(cleaned)\n",
    "    #stemmer = PorterStemmer()\n",
    "    #lemmatized = stemmer.stem(cleaned)\n",
    "    #convert the lemmatized comment into tokens\n",
    "    tokenized = word_tokenize(lemmatized)\n",
    "    \n",
    "    #tagging the tokens\n",
    "    #pos = nltk.pos_tag(tokenized)\n",
    "\n",
    "    #Removing stop words\n",
    "    stopped = [w for w in tokenized if not w in stop_words]\n",
    "    \n",
    "    #remove the high frequency words since they dont contribute to the classification \n",
    "    highfreq =  [w for w in stopped if not w in freq]\n",
    "    \n",
    "    return highfreq"
   ]
  },
  {
   "cell_type": "code",
   "execution_count": 267,
   "metadata": {},
   "outputs": [],
   "source": [
    "train['tokenizedComment'] = train['Comment'].apply(lambda x: preprocessText(x))"
   ]
  },
  {
   "cell_type": "code",
   "execution_count": 268,
   "metadata": {},
   "outputs": [
    {
     "data": {
      "text/html": [
       "<div>\n",
       "<style scoped>\n",
       "    .dataframe tbody tr th:only-of-type {\n",
       "        vertical-align: middle;\n",
       "    }\n",
       "\n",
       "    .dataframe tbody tr th {\n",
       "        vertical-align: top;\n",
       "    }\n",
       "\n",
       "    .dataframe thead th {\n",
       "        text-align: right;\n",
       "    }\n",
       "</style>\n",
       "<table border=\"1\" class=\"dataframe\">\n",
       "  <thead>\n",
       "    <tr style=\"text-align: right;\">\n",
       "      <th></th>\n",
       "      <th>Comment</th>\n",
       "      <th>Label</th>\n",
       "      <th>tokenizedComment</th>\n",
       "    </tr>\n",
       "  </thead>\n",
       "  <tbody>\n",
       "    <tr>\n",
       "      <th>0</th>\n",
       "      <td>So there is no way for me to plug it in here i...</td>\n",
       "      <td>0</td>\n",
       "      <td>[So, way, plug, US, unless, go, converter]</td>\n",
       "    </tr>\n",
       "    <tr>\n",
       "      <th>1</th>\n",
       "      <td>Good case  Excellent value.</td>\n",
       "      <td>1</td>\n",
       "      <td>[Good, case, Excellent, value]</td>\n",
       "    </tr>\n",
       "    <tr>\n",
       "      <th>2</th>\n",
       "      <td>Great for the jawbone.</td>\n",
       "      <td>1</td>\n",
       "      <td>[Great, jawbone]</td>\n",
       "    </tr>\n",
       "    <tr>\n",
       "      <th>3</th>\n",
       "      <td>Tied to charger for conversations lasting more...</td>\n",
       "      <td>0</td>\n",
       "      <td>[Tied, charger, conversations, lasting, minute...</td>\n",
       "    </tr>\n",
       "    <tr>\n",
       "      <th>4</th>\n",
       "      <td>The mic is great.</td>\n",
       "      <td>1</td>\n",
       "      <td>[The, mic, great]</td>\n",
       "    </tr>\n",
       "  </tbody>\n",
       "</table>\n",
       "</div>"
      ],
      "text/plain": [
       "                                             Comment  Label  \\\n",
       "0  So there is no way for me to plug it in here i...      0   \n",
       "1                        Good case  Excellent value.      1   \n",
       "2                             Great for the jawbone.      1   \n",
       "3  Tied to charger for conversations lasting more...      0   \n",
       "4                                  The mic is great.      1   \n",
       "\n",
       "                                    tokenizedComment  \n",
       "0         [So, way, plug, US, unless, go, converter]  \n",
       "1                     [Good, case, Excellent, value]  \n",
       "2                                   [Great, jawbone]  \n",
       "3  [Tied, charger, conversations, lasting, minute...  \n",
       "4                                  [The, mic, great]  "
      ]
     },
     "execution_count": 268,
     "metadata": {},
     "output_type": "execute_result"
    }
   ],
   "source": [
    "train.head()"
   ]
  },
  {
   "cell_type": "code",
   "execution_count": 269,
   "metadata": {},
   "outputs": [
    {
     "data": {
      "text/html": [
       "<div>\n",
       "<style scoped>\n",
       "    .dataframe tbody tr th:only-of-type {\n",
       "        vertical-align: middle;\n",
       "    }\n",
       "\n",
       "    .dataframe tbody tr th {\n",
       "        vertical-align: top;\n",
       "    }\n",
       "\n",
       "    .dataframe thead th {\n",
       "        text-align: right;\n",
       "    }\n",
       "</style>\n",
       "<table border=\"1\" class=\"dataframe\">\n",
       "  <thead>\n",
       "    <tr style=\"text-align: right;\">\n",
       "      <th></th>\n",
       "      <th>Comment</th>\n",
       "      <th>Label</th>\n",
       "      <th>tokenizedComment</th>\n",
       "    </tr>\n",
       "  </thead>\n",
       "  <tbody>\n",
       "    <tr>\n",
       "      <th>0</th>\n",
       "      <td>So there is no way for me to plug it in here i...</td>\n",
       "      <td>0</td>\n",
       "      <td>[So, way, plug, US, unless, go, converter]</td>\n",
       "    </tr>\n",
       "    <tr>\n",
       "      <th>3</th>\n",
       "      <td>Tied to charger for conversations lasting more...</td>\n",
       "      <td>0</td>\n",
       "      <td>[Tied, charger, conversations, lasting, minute...</td>\n",
       "    </tr>\n",
       "    <tr>\n",
       "      <th>5</th>\n",
       "      <td>I have to jiggle the plug to get it to line up...</td>\n",
       "      <td>0</td>\n",
       "      <td>[jiggle, plug, get, line, right, get, decent, ...</td>\n",
       "    </tr>\n",
       "    <tr>\n",
       "      <th>6</th>\n",
       "      <td>If you have several dozen or several hundred c...</td>\n",
       "      <td>0</td>\n",
       "      <td>[If, several, dozen, several, hundred, contact...</td>\n",
       "    </tr>\n",
       "    <tr>\n",
       "      <th>8</th>\n",
       "      <td>Needless to say  I wasted my money.</td>\n",
       "      <td>0</td>\n",
       "      <td>[Needless, say, wasted, money]</td>\n",
       "    </tr>\n",
       "  </tbody>\n",
       "</table>\n",
       "</div>"
      ],
      "text/plain": [
       "                                             Comment  Label  \\\n",
       "0  So there is no way for me to plug it in here i...      0   \n",
       "3  Tied to charger for conversations lasting more...      0   \n",
       "5  I have to jiggle the plug to get it to line up...      0   \n",
       "6  If you have several dozen or several hundred c...      0   \n",
       "8                Needless to say  I wasted my money.      0   \n",
       "\n",
       "                                    tokenizedComment  \n",
       "0         [So, way, plug, US, unless, go, converter]  \n",
       "3  [Tied, charger, conversations, lasting, minute...  \n",
       "5  [jiggle, plug, get, line, right, get, decent, ...  \n",
       "6  [If, several, dozen, several, hundred, contact...  \n",
       "8                     [Needless, say, wasted, money]  "
      ]
     },
     "execution_count": 269,
     "metadata": {},
     "output_type": "execute_result"
    }
   ],
   "source": [
    "train_positive = train.loc[train['Label']==1]\n",
    "#dataset of all positive reviews\n",
    "train_positive.head()\n",
    "train_negative = train.loc[train['Label']==0]\n",
    "#dataset of all negative reviews\n",
    "train_negative.head()"
   ]
  },
  {
   "cell_type": "code",
   "execution_count": 270,
   "metadata": {},
   "outputs": [],
   "source": [
    "#Calculate the number of positive and negative documents for each token in the corpus"
   ]
  },
  {
   "cell_type": "code",
   "execution_count": 271,
   "metadata": {},
   "outputs": [],
   "source": [
    "DFP = {}\n",
    "#Document frequency for negative text\n",
    "DFN = {}\n",
    "\n",
    "#To find the word and no of positive documents that contain the word\n",
    "for index, row in train_positive.iterrows():\n",
    "    tokens = row['tokenizedComment']\n",
    "    for w in tokens:\n",
    "        try:\n",
    "            DFP[w].add(index)\n",
    "        except:\n",
    "            DFP[w] = {index}\n",
    "\n",
    "for index, row in train_negative.iterrows():\n",
    "    tokens = row['tokenizedComment']\n",
    "    for w in tokens:\n",
    "        try:\n",
    "            DFN[w].add(index)\n",
    "        except:\n",
    "            DFN[w] = {index}\n",
    "\n",
    "#The above list gives document numbers, we need count of all documents that contain the word, so take len\n",
    "for i in DFP:\n",
    "    DFP[i] = len(DFP[i])\n",
    "\n",
    "for i in DFN:\n",
    "    DFN[i] = len(DFN[i])"
   ]
  },
  {
   "cell_type": "code",
   "execution_count": 272,
   "metadata": {},
   "outputs": [],
   "source": [
    "def getOcr(word,posneg):\n",
    "\n",
    "    if(posneg=='P'):\n",
    "        if word in DFP:\n",
    "            return DFP[word]\n",
    "        else:\n",
    "            return 0\n",
    "        \n",
    "    if(posneg=='N'):\n",
    "        if word in DFN:\n",
    "            return DFN[word]\n",
    "        else:\n",
    "            return 0"
   ]
  },
  {
   "cell_type": "code",
   "execution_count": 273,
   "metadata": {},
   "outputs": [],
   "source": [
    "for index, row in train_positive.iterrows():\n",
    "    \n",
    "    comment = row[\"tokenizedComment\"]\n",
    "    \n",
    "    #tagging the tokens\n",
    "    pos = nltk.pos_tag(comment)\n",
    "    \n",
    "    #for each word that occurs in text, calculate the sentiment weight\n",
    "    for w in pos:\n",
    "         if w[1][0] in ('J'):\n",
    "            sentiment[w[0]] = 0.5\n",
    "         elif w[1][0] in ('VB'):\n",
    "            sentiment[w[0]] = 0.333\n",
    "         elif w[1][0] in ('NN'):\n",
    "            sentiment[w[0]] = 0.2\n",
    "         else:\n",
    "            sentiment[w[0]] = 0\n",
    "         \n",
    "        \n",
    "         ocrp = getOcr(w[0],'P')\n",
    "         ocrn = getOcr(w[0],'N')\n",
    "        \n",
    "         ps = calc_polarityscore(sentiment[w[0]],ocrp,ocrn)\n",
    "    \n",
    "         all_words[w[0]] = ps\n"
   ]
  },
  {
   "cell_type": "markdown",
   "metadata": {},
   "source": [
    "## List of words with their polarity"
   ]
  },
  {
   "cell_type": "code",
   "execution_count": 274,
   "metadata": {},
   "outputs": [
    {
     "name": "stdout",
     "output_type": "stream",
     "text": [
      "{'Good': 0.999969482421875, 'case': 2.5599934464000013e-08, 'Excellent': 0.4998779296875, 'value': 0.24960000000000002, 'Great': 0.25, 'jawbone': 0.24, 'The': 0.0, 'mic': 0.04000000000000001, 'great': 0.03125, 'If': 0.0, 'Razr': 0.0, 'owner': 0.19999999999999998, 'must': 0.0, 'And': 0.0, 'sound': 1.0291341697585879e-07, 'quality': 4.095999999973159e-11, 'He': 0.0, 'impressed': 0.03125, 'going': -0.04922240732100001, 'original': 0.4375, 'battery': -2.0478689280000014e-10, 'extended': 0.443889, 'Very': 0.0, 'good': 0.00012207031249644729, 'though': 0.0, 'Highly': 0.19999999999999998, 'recommend': 0.0006807438258283551, 'one': 0.0, 'blue': 0.25, 'tooth': 0.0, 'phone': 2.950534578496966e-50, 'So': 0.0, 'Far': 0.19999999999999998, 'Works': 0.24999999995904, 'bought': -0.00390625, 'use': 0.0, 'Kindle': 0.19999999999999998, 'Fire': 0.24, 'absolutely': 0.0, 'loved': 0.33299999999999996, 'yet': 0.0, 'run': 0.443889, 'new': 0.005859375, 'two': 0.0, 'bars': -0.04800000000000001, 'three': 0.0, 'days': -0.0016000000000000003, 'without': 0.0, 'charging': -0.036926037, 'Pocket': 0.19999999999999998, 'PC': 0.24800000000000003, 'combination': 0.19999999999999998, 'owned': 0.443889, 'months': -0.001984, 'say': 0.05331709863789301, 'best': 0.24999237060546875, 'mobile': 0.0, 'This': 0.0, 'product': 5.242877315645446e-16, 'ideal': 0.5, 'people': 0.001984, 'like': 0.000240325927734375, 'whose': 0.0, 'ears': 0.009600000000000003, 'sensitive': 0.33299999999999996, 'Car': 0.19999999999999998, 'charger': -1.5994880000000004e-05, 'well': 0.0, 'AC': 0.19999999999999998, 'included': 0.0, 'make': -0.006063480473928487, 'sure': 0.008, 'never': 0.0, 'juice': 0.19999999999999998, 'Highy': 0.19999999999999998, 'recommended': 0.33299999999999996, 'It': 0.0, 'kept': -0.147815037, 'works': 0.16625037481259292, 'fine': 0.04999999897600001, 'camera': 0.001999872, 'thats': 0.04000000000000001, 'MP': 0.0, 'pics': 0.19999999999999998, 'nice': 0.9998779296875, 'clear': 0.2421875, 'picture': -0.049600000000000005, 'Nice': 0.24999987199999998, 'headset': 1.6383999664455695e-12, 'priced': 0.164206098637893, 'right': -7.680000000000002e-05, 'bluetooth': 0.0, 'features': 0.24800000000000003, 'want': -0.164206098637893, 'seems': 0.493111407321, 'made': 0.000454056225438948, 'protection': 0.04000000000000001, 'bulky': 0.19999999999999998, 'A': 0.0, 'usable': 0.5, 'keyboard': 0.24960000000000002, 'actually': 0.0, 'turns': 0.0, 'PDA': 0.24, 'real': -0.1875, 'world': 0.19999999999999998, 'useful': 0.5, 'machine': 0.19999999999999998, 'instead': 0.0, 'neat': 0.5, 'gadget': 0.19999999999999998, 'pretty': 0.0, 'sturdy': 0.96875, 'large': 0.0, 'problems': 6.400000000000002e-05, 'love': 0.2499999999983616, 'thing': -0.0019999744000000004, 'Everything': 0.04000000000000001, 'reasonable': 0.5, 'price': 0.009999999999999997, 'e': 0.19999999999999998, 'even': 0.0, 'dropped': 0.0, 'stream': 0.19999999999999998, 'submerged': 0.33299999999999996, 'seconds': -0.04000000000000001, 'still': 0.0, 'happy': 0.249755859375, 'NO': 0.0, 'complaints': 0.19999999999999998, 'regarding': 0.33299999999999996, 'end': 0.0, 'really': 0.0, 'faceplates': 0.19999999999999998, 'since': 0.0, 'looks': -0.016391061637893004, 'elegant': 0.5, 'cool': 0.009996800000000002, 'These': 0.0, 'headphones': -0.009600000000000003, 'find': 0.0, 'think': -0.004094691316893, 'perhaps': 0.0, 'purchase': 0.0003993600000000001, 'last': -0.21875, 'several': 0.1875, 'years': 0.04999936000000001, 'seriously': 0.0, 'feels': 0.008, 'comfortable': 0.1240234375, 'headsets': 0.0016000000000000003, 'wear': 0.009996800000000002, 'glasses': 0.24, 'gets': 0.036926037, 'way': -0.009920000000000002, 'sometimes': 0.0, 'iPODs': 0.19999999999999998, 'device': 0.0019993600000000004, 'situations': 0.19999999999999998, ')': 0.0, 'choice': 0.24, 'docking': 0.443889, 'station': 0.24, 'home': 0.04000000000000001, 'work': -2.5137171700059396e-05, 'beautiful': 0.24, 'Love': 0.24960000000000002, 'little': 0.0, 'item': -5.120000000000001e-07, 'handy': 0.75, 'lot': 0.04999680000000001, 'everyday': 0.5, 'holds': 0.147815037, 'Well': 0.0, 'packaged': 0.480815037, 'arrived': 0.0, 'time': -5.111808000000003e-09, 'intended': 0.33299999999999996, 'easy': 0.12451171875, 'everyone': 0.24, 'loves': 0.443889, 'Product': 0.04800000000000001, 'excellent': 0.999755859375, 'better': 0.0, 'verizon': 0.19999999999999998, 'Boy': 0.19999999999999998, 'cheaper': 0.75, 'loads': 0.33299999999999996, 'super': 0.110889, 'Made': 0.33299999999999996, 'Worked': 0.480815037, 'Will': 0.0, 'order': 0.24960000000000002, 'Best': 0.875, 'found': 0.05468063084641838, 'far': 0.0, 'tried': 0.09375, 'bluetooths': 0.19999999999999998, '(': 0.0, 'listener': 0.19999999999999998, 'ease': 0.04000000000000001, 'using': 0.005912279750857318, 'Integrated': 0.33299999999999996, 'seamlessly': 0.0, 'Motorola': 6.400000000000002e-05, 'RAZR': 0.19999999999999998, 'Definitely': 0.0, 'bargain': 0.04800000000000001, 'free': 0.9375, 'shipping': 0.049600000000000005, 'Pros': 0.0, 'pictures': 0.04800000000000001, 'also': 0.0, 'styles': 0.19999999999999998, 'black': -0.1875, 'white': 0.5, 'My': 0.0, 'Jabra': 0.04999680000000001, 'reception': 0.0003999948800000001, 'ear': -4.57763671875e-05, 'piece': -0.009996800000000002, 'fit': 0.0, 'Sound': 0.04800000000000001, 'call': -0.017754593846418372, 'wife': 0.0, 'ask': 0.24, 'slim': 0.75, 'light': 0.04922240732100001, 'display': 0.24, 'geeky': 0.5, 'sex': 0.19999999999999998, 'toast': 0.19999999999999998, 'rocks': 0.480815037, 'oozes': 0.33299999999999996, 'embedded': 0.33299999999999996, 'sleek': 0.75, 'stylish': 0.19999999999999998, 'leather': 0.24960000000000002, 'fast': 0.9375, 'Absolutely': 0.0, 'compromise': 0.19999999999999998, 'full': 0.0, 'QWERTY': 0.19999999999999998, 'basic': 0.19999999999999998, 'cell': 0.00039987200000000006, 'number': 0.0, 'keypad': 0.0, 'winner': 0.33299999999999996, 'us': 0.0, 'Setup': 0.24, 'simpler': 0.19999999999999998, 'different': -0.125, 'earpieces': 0.04000000000000001, 'first': -0.24993896484375, 'fits': 0.1662252376357112, 'comfortably': 0.0, 'Iam': 0.19999999999999998, 'pleased': 0.96875, 'Gets': 0.24, 'job': 0.049600000000000005, 'done': 0.443889, 'audio': 0.0, 'weeks': -0.008, 'small': 0.0625, 'realize': 0.33299999999999996, 'getting': 0.110889, 'used': 0.00015120072307116971, 'accompanied': 0.33299999999999996, 'software': 0.0, 'almost': 0.0, 'brilliant': 0.5, 'Headset': 0.04000000000000001, 'nicely': 0.0, 'avoid': 0.0, 'damage': 0.19999999999999998, 'definitly': 0.0, 'stuff': 0.0, 'peachy': 0.0, 'keen': 0.33299999999999996, 'Voice': 0.0, 'recognition': 0.24, 'tremendous': 0.75, 'got': 0.0061138303147111875, 'reccomendation': 0.19999999999999998, 'relative': 0.19999999999999998, 'glad': 0.24800000000000003, 'problem': -0.0003968000000000001, 'linking': 0.33299999999999996, 'Blackberry': 0.24, 'Curve': 0.19999999999999998, 'know': -0.036926037, 'sounds': 0.33299999999999996, 'funny': 0.5, 'seemed': 0.33299999999999996, 'sketchy': 0.19999999999999998, 'technology': 0.0, 'sending': -0.110889, 'kind': -0.04800000000000001, 'messages': 0.19999999999999998, 'web': 0.33299999999999996, 'browsing': 0.33299999999999996, 'significantly': 0.0, 'faster': 0.0, 'previous': 0.0, 'phones': 0.00032, 'build': 0.33299999999999996, 'unlike': 0.0, 'cheap': -0.21875, 'fantastic': 0.5, 'perfectly': 0.0, 'colors': 0.19999999999999998, 'W': 0.0, 'SUPERB': 0.19999999999999998, 'charm': 0.24992, 'Value': 0.19999999999999998, 'look': -0.0016000000000000003, 'sharp': 0.875, 'screen': 0.0, 'graphics': 0.443889, 'EXCELLENT': 0.19999999999999998, 'SERVICE': 0.19999999999999998, 'iGo': 0.75, 'chargers': 0.0, 'tips': 0.24, 'file': 0.19999999999999998, 'browser': 0.19999999999999998, 'offers': 0.19999999999999998, 'options': 0.19999999999999998, 'needs': 0.33299999999999996, 'Handsfree': 0.19999999999999998, 'Superb': 0.19999999999999998, 'Phone': 0.009999360000000002, 'Network': 0.19999999999999998, 'connected': 0.0, 'HS': 0.19999999999999998, 'worked': -0.00021831706083450816, 'whether': 0.0, 'pocket': 0.0, 'functionality': 0.24, 'awesome': 0.24800000000000003, 'Incredible': 0.5, 'Any': 0.0, 'ring': 0.0, 'tone': 0.19999999999999998, 'Overall': 0.24960000000000002, 'buy': -0.00039997440000000007, 'Lately': 0.0, 'extremely': 0.0, 'helpful': 0.125, 'Light': 0.5, 'weight': 0.33299999999999996, 'hardly': 0.0, 'notice': 0.0, 'You': 0.0, 'thin': 0.0, 'color': 0.008, 'prettier': 0.5, 'thought': 0.110889, 'would': 0.0, 'incredibly': 0.0, 'All': 0.0, 'investment': 0.19999999999999998, 'electronics': 0.19999999999999998, 'available': 0.5, 'FM': 0.19999999999999998, 'Transmitters': 0.19999999999999998, 'H': 0.19999999999999998, 'mega': 0.5, 'pixel': 0.19999999999999998, 'part': 0.008, 'reasonably': 0.0, 'nearly': 0.0, 'transmit': 0.19999999999999998, 'range': 0.24800000000000003, 'decent': 0.04800000000000001, 'able': 0.375, 'roam': 0.19999999999999998, 'around': 0.0, 'house': 0.0, 'living': 0.19999999999999998, 'room': 0.0, 'issues': 0.0, 'service': -3.1999590400000016e-06, 'highly': 0.0, 'infatuated': 0.33299999999999996, 'Simple': 0.5, 'lightweight': 0.04800000000000001, 'certainly': 0.0, 'usually': 0.0, 'headbands': 0.19999999999999998, 'mess': 0.24, 'hair': 0.19999999999999998, 'Really': 0.0, 'One': 0.0, 'favorite': 0.19999999999999998, 'purchases': 0.19999999999999998, 'ever': 0.0, 'market': 0.24800000000000003, 'Authentic': 0.5, 'shine': 0.19999999999999998, 'comfort': 0.24, 'excited': 0.443889, 'get': -0.00022637864470061446, 'cute': 0.5, 'Worth': 0.5, 'every': 0.0, 'penny': 0.19999999999999998, 'wallet': 0.19999999999999998, 'type': 0.19999999999999998, 'probably': 0.0, 'important': -0.125, 'aspect': 0.19999999999999998, 'glove': 0.19999999999999998, 'strong': 0.125, 'secure': 0.75, 'durable': 0.5, 'O': 0.19999999999999998, 'gosh': 0.19999999999999998, 'attractive': 0.5, 'appears': 0.33299999999999996, 'form': 0.110889, 'factor': 0.19999999999999998, 'Earpiece': 0.19999999999999998, 'hands': 0.049600000000000005, 'tool': 0.04800000000000001, 'stereo': 0.19999999999999998, 'incredible': 0.5, 'Only': 0.0, 'month': 0.0, 'flawlessly': 0.0, 'Battery': 7.936000000000003e-05, 'life': 6.400000000000002e-05, 'gave': 0.33299999999999996, 'stars': 0.0, 'Reversible': 0.5, 'plug': -0.24609375, 'rotating': 0.33299999999999996, 'feature': -0.008, 'Comfort': 0.19999999999999998, 'whole': 0.75, 'family': 0.24960000000000002, 'seller': 0.24800000000000003, 'Plantronics': 0.04800000000000001, 'adorable': 0.75, 'installed': 0.5, 'let': 0.0, 'charged': 0.110889, 'overnite': 0.0, 'working': 0.055336237635711195, 'voice': 0.1875, 'thru': 0.19999999999999998, 'handset': 0.33299999999999996, 'cat': 0.19999999999999998, 'attacked': 0.33299999999999996, 'scratched': 0.110889, 'protective': 0.5, 'strip': 0.19999999999999998, 'destroying': 0.33299999999999996, 'Now': 0.0, 'wise': 0.0, 'decision': 0.04000000000000001, 'Someone': 0.19999999999999998, 'shouldve': 0.19999999999999998, 'invented': 0.33299999999999996, 'sooner': 0.19999999999999998, 'try': 0.0, 'engineered': 0.33299999999999996, 'clever': 0.5, 'construction': 0.0, 'received': 0.0, 'quickly': 0.0, 'Has': 0.19999999999999998, 'Also': 0.0, 'enough': -0.1240234375, 'alarm': 0.19999999999999998, 'clock': 0.19999999999999998, 'removing': 0.33299999999999996, 'charge': -0.00039997440000000007, 'We': 0.0, 'gotten': 0.0, 'compliments': 0.19999999999999998, 'definitely': 0.0, 'state': 0.19999999999999998, 'allow': 0.33299999999999996, 'usage': 0.19999999999999998, 'driving': 0.443889, 'dialing': 0.443889, 'car': 1.5974400000000004e-05, 'low': 0.0, 'VERY': 0.0, 'replacement': -0.25, 'came': 0.04922240732100001, 'ago': 0.0, 'either': 0.0, 'loud': -0.0625, 'lasts': -0.147815037, 'couple': -0.008, 'iPod': 0.443889, 'buttons': -0.009920000000000002, 'New': 0.24800000000000003, 'times': -0.04800000000000001, 'concrete': 0.33299999999999996, 'knock': 0.33299999999999996, 'wood': 0.19999999999999998, 'transformed': 0.33299999999999996, 'organizational': 0.5, 'capability': 0.19999999999999998, 'easier': 0.375, 'advertised': 0.0, 'Comfortable': 0.9375, 'Range': 0.24, 'Life': 0.24, 'microphone': -0.04000000000000001, 'according': 0.33299999999999996, 'called': 0.33299999999999996, 'applifies': 0.19999999999999998, 'everything': 0.049920000000000006, 'design': -0.0019968000000000004, 'transmission': 0.19999999999999998, 'S': 0.24800000000000003, 'ordered': -0.110889, 'motorola': 0.0, 'data': 0.04800000000000001, 'cable': 0.0, 'finished': 0.33299999999999996, 'looking': 0.0, 'long': 0.0, 'happier': 0.480815037, 'Display': 0.19999999999999998, 'year': -0.0019200000000000003, 'Protects': 0.19999999999999998, 'sides': 0.0, 'Clear': 0.24800000000000003, 'Skype': 0.24, 'Calls': 0.0, 'Long': 0.19999999999999998, 'Hands': 0.19999999999999998, 'Free': 0.19999999999999998, 'Device': 0.24, 'take': -0.05331709863789301, 'self': 0.19999999999999998, 'portraits': 0.19999999999999998, 'outside': 0.0, 'exterior': 0.5, 'After': 0.0, 'trying': 0.0, 'many': 0.0, 'handsfree': 0.75, 'gadgets': 0.19999999999999998, 'finally': 0.0, 'Magical': 0.19999999999999998, 'Help': 0.19999999999999998, 'company': -0.04998400000000001, 'shipped': 0.443889, 'promptly': 0.0, 'Exactly': 0.0, 'wanted': 0.110889, 'deal': 0.04800000000000001, 'satisfied': 0.480815037, 'encourage': 0.19999999999999998, 'give': -0.110889, 'Better': 0.875, 'expect': -0.008, 'Sounds': 0.19999999999999998, 'effective': 0.5, 'Its': 0.0, 'simple': 0.125, 'prompt': 0.5, 'especially': 0.0, 'Bluetooth': 0.009600000000000003, 'Excelent': 0.19999999999999998, 'Buy': -0.04000000000000001, 'Jawbone': 0.19999999999999998, 'Era': 0.19999999999999998, 'An': 0.0, 'Awesome': 0.19999999999999998, 'Look': 0.19999999999999998, 'For': 0.0, 'Fall': 0.19999999999999998, 'Price': 0.19999999999999998, 'iriver': 0.19999999999999998, 'SPINN': 0.19999999999999998, 'psyched': 0.33299999999999996, 'appointments': 0.19999999999999998, 'contacts': -0.110889, 'IT': 0.19999999999999998, 'REALLY': 0.0, 'EASY': 0.19999999999999998, 'Sanyo': 0.19999999999999998, 'survived': 0.33299999999999996, 'dozens': 0.19999999999999998, 'drops': -0.04000000000000001, 'blacktop': 0.0, 'ill': 0.5, 'effect': 0.0, 'Fantastic': 0.24, 'earphones': 0.19999999999999998, 'finds': 0.33299999999999996, 'away': 0.0, 'enter': 0.5, 'modest': 0.5, 'cellular': 0.5, 'But': 0.0, 'clarity': 0.049600000000000005, 'Awsome': 0.19999999999999998, 'Restored': 0.19999999999999998, 'performance': 0.24, 'purchasing': 0.0, 'JX': 0.19999999999999998, 'series': 0.0, 'Moto': 0.19999999999999998, 'Q': -0.04000000000000001, 'go': 0.0, 'figure': 0.0, 'searched': 0.33299999999999996, 'Internet': 0.0, 'size': 0.04000000000000001, 'big': -0.4375, 'key': 0.19999999999999998, 'pad': 0.19999999999999998, 'lit': 0.19999999999999998, 'amazon': 0.0, 'hard': -0.125, 'high': 0.375, 'Portable': 0.5, 'colleague': 0.19999999999999998, 'expensive': 0.875, 'Timely': 0.0, 'shipment': 0.5, 'solid': 0.33299999999999996, 'Surefire': 0.19999999999999998, 'GX': 0.19999999999999998, 'others': 0.04800000000000001, 'Looks': 0.0, 'TMobile': 0.19999999999999998, 'Motorolas': 0.19999999999999998, 'delivery': 0.19999999999999998, 'wearing': -0.04000000000000001, 'conditions': 0.19999999999999998, 'worthwhile': 0.5, 'usefulness': 0.5, 'overnight': 0.5, 'batteries': 0.24, 'regret': 0.33299999999999996, 'hybrid': 0.5, 'palmtop': 0.19999999999999998, 'cellphone': 0.24, 'excels': 0.19999999999999998, 'roles': 0.19999999999999998, 'BT': -0.008, 'v': 0.0, 'Verizon': -0.0016000000000000003, 'liked': 0.5, 'described': 0.443889, 'WELL': 0.0, 'IM': 0.19999999999999998, 'SATISFIED': 0.19999999999999998, 'bose': 0.5, 'noise': 0.24800000000000003, 'cancelling': 0.33299999999999996, 'amazing': 0.5, 'NYC': 0.19999999999999998, 'commuter': 0.19999999999999998, 'frog': 0.33299999999999996, 'eye': 0.19999999999999998, 'catching': 0.0, 'talk': -0.16011140732100002, 'amazed': 0.443889, 'aluminum': 0.0, 'Palm': -0.04000000000000001, 'VX': 0.0, 'protected': 0.5, 'handheld': 0.19999999999999998, 'Mobile': 0.04000000000000001, 'Tools': 0.19999999999999998, 'sturdiness': 0.19999999999999998, 'orders': 0.19999999999999998, 'within': 0.0, 'timeframe': 0.0, 'overall': 0.5, 'source': 0.19999999999999998, 'waterproof': 0.19999999999999998, 'Thanks': 0.19999999999999998, 'Amazon': 0.009600000000000003, 'things': 0.0, 'need': 0.04922240732100001, 'ended': 0.0, 'sliding': 0.33299999999999996, 'edge': 0.19999999999999998, 'pants': 0.19999999999999998, 'back': 0.0, 'pockets': 0.19999999999999998, 'store': 0.0, 'NOKIA': 0.19999999999999998, 'shield': 0.19999999999999998, 'incrediable': 0.5, 'Keep': 0.33299999999999996, 'left': -0.147815037, 'trunk': 0.19999999999999998, 'carried': 0.33299999999999996, 'conversation': 0.0, 'hitch': 0.19999999999999998, 'Small': 0.5, 'impressive': 0.0, 'practical': 0.5, 'setup': 0.19999999999999998, 'ample': 0.5, 'storage': 0.0, 'place': -0.04800000000000001, 'eargels': 0.19999999999999998, 'channel': 0.33299999999999996, 'directly': 0.0, 'seem': 0.0, 'increase': 0.19999999999999998, 'volume': -0.0003993600000000001, 'purchased': 0.147815037, 'No': 0.0, 'shifting': 0.33299999999999996, 'bubbling': 0.19999999999999998, 'peeling': 0.33299999999999996, 'scratch': 0.33299999999999996, 'NOTHING': 0.19999999999999998, 'Droid': 0.19999999999999998, 'Earset': 0.19999999999999998, 'outgoing': 0.33299999999999996, 'Thank': 0.0, 'total': 0.5, 'package': 0.19999999999999998, 'understanding': 0.5, 'patient': 0.19999999999999998, 'friends': 0.33299999999999996, 'enjoy': 0.5, 'Virgin': 0.19999999999999998, 'Wireless': 0.19999999999999998, 'quite': 0.0, 'less': 0.0, 'expected': 0.0, 'fixes': 0.33299999999999996, 'trouble': -0.04000000000000001, 'accessing': 0.33299999999999996, 'downloading': 0.33299999999999996, 'ringtones': 0.04800000000000001, 'performing': 0.33299999999999996, 'functions': 0.19999999999999998, 'description': -0.04000000000000001, 'said': 0.0, 'adapters': 0.19999999999999998, 'plays': 0.33299999999999996, 'louder': 0.5, 'speaker': 0.04000000000000001, 'lacking': -0.110889, 'however': 0.0, 'holding': 0.443889, 'Linked': 0.33299999999999996, 'effort': 0.19999999999999998, 'THey': 0.19999999999999998, 'Easy': 0.24800000000000003, 'Than': 0.0, 'Their': 0.0, 'Research': 0.19999999999999998, 'Development': 0.19999999999999998, 'division': 0.19999999999999998, 'obviously': 0.0, 'knows': 0.33299999999999996, 'Those': 0.0, 'Walkman': 0.19999999999999998, 'clipping': 0.33299999999999996, 'belt': 0.008, 'deffinitely': 0.0, 'feel': 0.04000000000000001, 'cent': 0.19999999999999998, 'coming': 0.0, 'behing': 0.19999999999999998, 'comfortible': 0.5, 'hours': -0.049600000000000005, 'day': 0.04800000000000001, 'pain': 0.19999999999999998, 'quick': 0.75, 'arrival': 0.19999999999999998, 'lg': 0.19999999999999998, 'fraction': 0.19999999999999998, 'paired': 0.443889, 'Treo': 0.04000000000000001, 'w': 0.19999999999999998, 'USB': 0.04800000000000001, 'transceiver': 0.19999999999999998, 'beats': 0.33299999999999996, 'fingers': 0.19999999999999998, 'cases': 0.24992, 'normally': 0.0, 'fall': 0.0, 'apart': 0.0, 'haul': 0.19999999999999998, 'anyone': -0.049920000000000006, 'brand': 0.0, 'mp': 0.0, 'players': 0.19999999999999998, 'posted': 0.33299999999999996, 'detailed': 0.5, 'comments': 0.19999999999999998, 'grey': 0.5, 'Red': 0.19999999999999998, 'needed': 0.110889, 'Not': 0.0, 'could': 0.0, 'existing': 0.33299999999999996, 'CDs': 0.19999999999999998, 'internet': 0.04000000000000001, 'connection': -0.008, 'im': 0.19999999999999998, 'surprised': 0.33299999999999996, 'much': 0.0, 'reviews': 0.24, 'fabulous': 0.5, 'bitpim': 0.19999999999999998, 'program': 0.19999999999999998, 'transfer': 0.19999999999999998, 'wind': 0.0, 'resistant': 0.19999999999999998, 'They': 0.0, 'forever': 0.0, 'overly': 0.0, 'replace': 0.036926037, 'operate': 0.0, 'nokia': 0.0, 'bar': 0.0, 'set': -0.147815037, 'loop': 0.19999999999999998, 'tiny': 0.5, 'tries': 0.0, 'download': 0.24, 'address': 0.5, 'book': 0.0, 'reboots': 0.33299999999999996, 'rate': 0.19999999999999998, 'Samsung': 0.049600000000000005, 'flipphones': 0.19999999999999998, 'designed': 0.33299999999999996, 'Does': -0.04998400000000001, 'Much': 0.0, 'went': -0.16556963084641838, 'smoothly': 0.0, 'access': 0.0, 'detachable': 0.5, 'clip': -0.04800000000000001, 'worn': 0.5, 'ringer': 0.19999999999999998, 'REAL': 0.19999999999999998, 'choices': 0.19999999999999998, 'upbeat': 0.19999999999999998, 'pair': -0.04000000000000001, 'Cell': 0.19999999999999998, 'crisp': 0.19999999999999998, 'smallest': 0.5, 'provided': -0.110889, 'stays': 0.19999999999999998, 'video': 0.75, 'clips': 0.19999999999999998, 'Because': 0.0, 'occupied': 0.5, 'background': 0.0, 'distracting': 0.33299999999999996, 'least': 0.0, 'hour': 0.24, 'entire': 0.5, 'beat': 0.33299999999999996, 'Comes': 0.19999999999999998, 'shots': 0.19999999999999998, 'flash': 0.0, 'SOS': 0.19999999999999998, 'signals': 0.19999999999999998, 'allows': 0.0, 'connect': 0.33299999999999996, 'mini': 0.19999999999999998, 'open': 0.5, 'allowing': 0.33299999999999996, 'Appears': 0.19999999999999998, 'outperform': 0.33299999999999996, 'China': 0.19999999999999998, 'V': -0.04800000000000001, 'jabra': 0.19999999999999998, 'gels': 0.0, 'R': 0.19999999999999998, 'quit': 0.33299999999999996, 'another': 0.0, 'power': 0.0, 'via': 0.0, 'wall': 0.0, 'outlet': -0.04000000000000001, 'slide': 0.19999999999999998, 'grip': 0.19999999999999998, 'prevents': 0.33299999999999996, 'slipping': 0.33299999999999996, 'hand': 0.24, 'simply': 0.0, 'BEST': 0.19999999999999998, 'In': 0.0, 'span': 0.5, 'exclaim': 0.33299999999999996, 'Whoa': 0.19999999999999998, 'TV': 0.19999999999999998, 'always': 0.0, 'corded': 0.33299999999999996, 'freedom': 0.0, 'wireless': 0.0, 'passed': 0.33299999999999996, 'mark': 0.19999999999999998, 'shows': 0.33299999999999996, 'signs': 0.19999999999999998, 'functional': 0.5, 'Other': 0.5, 'soft': 0.5, 'tight': 0.5, 'cut': 0.24, 'face': -0.04800000000000001, 'shape': 0.19999999999999998, 'makes': 0.0, 'copier': 0.0, 'waiting': 0.33299999999999996, 'hold': -0.036926037, 'something': 0.0, 'T': -0.04800000000000001, 'customer': -0.04998400000000001, 'anywhere': 0.0, 'Arrived': 0.19999999999999998, 'sold': 0.33299999999999996, 'Provides': 0.19999999999999998, 'classy': 0.5, 'Krussel': 0.19999999999999998, 'Always': 0.19999999999999998, 'tracfonewebsite': 0.5, 'user': 0.0, 'friendly': 0.0, 'toactivate': 0.5, 'etc': 0.0, 'whatever': 0.0, 'next': 0.0, 'BlueAnt': 0.19999999999999998, 'Supertooth': 0.19999999999999998, 'AWESOME': 0.19999999999999998, 'Item': 0.0, 'Metro': 0.19999999999999998, 'PCS': 0.19999999999999998, 'SCH': 0.19999999999999998, 'r': 0.19999999999999998, 'slider': 0.19999999999999998, 'Sony': 0.19999999999999998, 'Premium': 0.19999999999999998, 'plugs': 0.19999999999999998, 'plenty': 0.5, 'capacity': 0.19999999999999998, 'confortable': 0.5, 'somewhat': 0.0, 'periods': 0.19999999999999998, 'Blue': 0.19999999999999998, 'Ant': 0.19999999999999998, 'Cheap': 0.19999999999999998, 'hey': 0.19999999999999998, 'Was': -0.04000000000000001, 'pleasantly': 0.0, 'suprised': 0.33299999999999996, 'given': -0.110889, 'cost': 0.19999999999999998, 'convenient': 0.5, 'ride': 0.0, 'smoother': 0.5, 'carries': 0.33299999999999996, 'highest': 0.5, 'anti': 0.19999999999999998, 'glare': 0.19999999999999998, 'protector': 0.0, 'date': 0.0, 'Just': 0.0, 'Crisp': 0.19999999999999998, 'generally': 0.0, 'inconspicuous': 0.5, 'boot': 0.19999999999999998, 'WORTHWHILE': 0.19999999999999998, 'entertainment': 0.19999999999999998, 'communication': 0.19999999999999998, 'management': 0.19999999999999998, 'Oh': 0.0, 'ActiveSync': 0.19999999999999998, 'optimal': 0.5, 'synchronization': 0.19999999999999998, 'results': 0.0, 'coupon': 0.19999999999999998, 'Perfect': 0.19999999999999998, 'PS': 0.19999999999999998, 'Five': 0.0, 'star': -0.04000000000000001, 'Plus': 0.0, 'plus': 0.0, 'cheapy': 0.19999999999999998, 'Big': 0.0, 'Lots': 0.19999999999999998, 'sounded': 0.0, 'awful': -0.25, 'hear': -0.2490234375, 'Yes': 0.0, 'shiny': 0.5, 'front': -0.25, 'side': -0.04800000000000001, 'thumbs': 0.19999999999999998, 'LG': -0.04000000000000001, 'together': 0.0, 'exceeds': 0.33299999999999996, 'feet': 0.0, 'line': -0.008, 'sight': 0.19999999999999998, 'EarGels': 0.19999999999999998, 'exactly': 0.0, 'signal': -0.4375, 'Plan': 0.19999999999999998, 'ordering': 0.33299999999999996, 'That': 0.0, 'effects': 0.19999999999999998, 'play': 0.0, 'keep': -0.147815037, 'third': 0.0, 'numerous': 0.0, 'Palms': 0.19999999999999998, 'auto': 0.0, 'answer': 0.0, 'read': 0.5, 'laptop': 0.33299999999999996, 'IR': 0.19999999999999998, 'send': 0.0, 'Would': 0.0, 'cancellation': 0.19999999999999998, 'see': 0.19999999999999998, 'travled': 0.33299999999999996, 'swivel': 0.19999999999999998, 'holster': -0.04000000000000001, 'flip': -0.04000000000000001, 'sister': 0.19999999999999998, 'Quality': -0.049600000000000005, 'dual': 0.5, 'purpose': 0.0, 'completely': 0.0, 'keeping': 0.33299999999999996, 'iPhone': 0.0, 'inside': 0.0, 'pairing': 0.110889, 'iphone': 0.19999999999999998, 'Glad': 0.19999999999999998, 'maintains': 0.19999999999999998, 'flawless': 0.5, 'static': -0.25, 'normal': 0.0, 'Fits': 0.19999999999999998, 'sizes': 0.0, 'earbud': 0.0, 'devices': 0.19999999999999998, 'barely': 0.0, 'took': 0.0, 'minutes': -0.009600000000000003, 'started': -0.16011140732100002, 'making': 0.0, 'calls': -0.04999987200000001, 'cutouts': 0.19999999999999998, 'placed': 0.0, 'land': 0.19999999999999998, 'despite': 0.0, 'flaws': 0.5, 'exceptional': 0.5, 'worth': -0.25, 'additional': 0.0, 'costs': 0.0, 'owning': 0.33299999999999996, 'official': 0.5, 'OEM': 0.19999999999999998, 'put': -0.164206098637893, 'loudest': 0.5, 'setting': 0.19999999999999998, 'Seller': 0.19999999999999998, 'competitors': 0.19999999999999998, 'show': 0.19999999999999998, 'saved': 0.33299999999999996, 'alot': 0.19999999999999998, 'money': -0.04999999999993447, 'Leopard': 0.19999999999999998, 'Print': 0.19999999999999998, 'wonderfully': 0.0, 'wild': 0.33299999999999996, 'plastic': -0.049600000000000005, 'Happy': 0.5, 'extra': -0.375, 'carry': 0.33299999999999996, 'fulfills': 0.33299999999999996, 'requirements': 0.19999999999999998, 'Logitech': 0.0, 'fact': 0.19999999999999998, 'rests': 0.19999999999999998, 'lightly': 0.0, 'rather': 0.0, 'websites': 0.33299999999999996, 'rating': 0.19999999999999998, 'cables': 0.19999999999999998, 'computer': -0.04000000000000001, 'turn': -0.4375, 'controls': 0.33299999999999996, 'accessable': 0.5, 'mine': 0.5, 'Christmas': 0.19999999999999998, 'rest': 0.5, 'Otherwise': 0.0, 'install': 0.0, 'joy': 0.19999999999999998, 'satisifed': 0.5, 'WOW': 0.24, 'reading': 0.0, 'specs': 0.5, 'alone': 0.0, 'armband': 0.19999999999999998, 'allot': 0.19999999999999998, 'clearer': 0.19999999999999998, 'exchanged': 0.0, 'sony': 0.0, 'ericson': 0.19999999999999998, 'z': 0.19999999999999998, 'motor': 0.19999999999999998, 'control': 0.19999999999999998, 'center': 0.19999999999999998, 'voltage': 0.19999999999999998, 'humming': 0.33299999999999996, 'equipment': 0.19999999999999998, 'Beautiful': 0.5, 'styling': 0.19999999999999998, 'seen': 0.33299999999999996, 'SWEETEST': 0.19999999999999998, 'PHONE': -0.04800000000000001, 'securely': 0.0, 'hook': 0.19999999999999998, 'directed': 0.33299999999999996, 'canal': 0.19999999999999998}\n"
     ]
    }
   ],
   "source": [
    "print(all_words)"
   ]
  },
  {
   "cell_type": "markdown",
   "metadata": {},
   "source": [
    "## Top 3 Positive words"
   ]
  },
  {
   "cell_type": "code",
   "execution_count": 275,
   "metadata": {},
   "outputs": [],
   "source": [
    "sortedPosWords = sorted(all_words.items(), key=lambda x: x[1], reverse=True)"
   ]
  },
  {
   "cell_type": "code",
   "execution_count": 276,
   "metadata": {},
   "outputs": [
    {
     "name": "stdout",
     "output_type": "stream",
     "text": [
      "Good\n",
      "nice\n",
      "excellent\n"
     ]
    }
   ],
   "source": [
    "for i in range(3):\n",
    "    print(sortedPosWords[i][0])"
   ]
  },
  {
   "cell_type": "markdown",
   "metadata": {},
   "source": [
    "## Top 3 Negative words"
   ]
  },
  {
   "cell_type": "code",
   "execution_count": 277,
   "metadata": {},
   "outputs": [],
   "source": [
    "sortedNegWords = sorted(all_words.items(), key=lambda x: x[1])"
   ]
  },
  {
   "cell_type": "code",
   "execution_count": 280,
   "metadata": {},
   "outputs": [
    {
     "name": "stdout",
     "output_type": "stream",
     "text": [
      "big\n",
      "signal\n",
      "turn\n"
     ]
    }
   ],
   "source": [
    "for i in range(3):\n",
    "    print(sortedNegWords[i][0])"
   ]
  },
  {
   "cell_type": "markdown",
   "metadata": {},
   "source": [
    "### The NLTK POS tagger's accuracy in tagging a word as objective is not very accurate. <br>The results of this lexicon based method can be greatly improved by better POS tagger"
   ]
  },
  {
   "cell_type": "code",
   "execution_count": null,
   "metadata": {},
   "outputs": [],
   "source": []
  }
 ],
 "metadata": {
  "kernelspec": {
   "display_name": "Python 3",
   "language": "python",
   "name": "python3"
  },
  "language_info": {
   "codemirror_mode": {
    "name": "ipython",
    "version": 3
   },
   "file_extension": ".py",
   "mimetype": "text/x-python",
   "name": "python",
   "nbconvert_exporter": "python",
   "pygments_lexer": "ipython3",
   "version": "3.7.3"
  }
 },
 "nbformat": 4,
 "nbformat_minor": 2
}
