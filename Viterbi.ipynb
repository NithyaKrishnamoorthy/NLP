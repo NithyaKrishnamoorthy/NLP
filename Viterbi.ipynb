{
 "cells": [
  {
   "cell_type": "code",
   "execution_count": 90,
   "metadata": {},
   "outputs": [],
   "source": [
    "def viterbi(observation, states, initProb, transitionProb, emissionProb):\n",
    "    Viterbi = [{}]\n",
    "    for i in states:\n",
    "        #Initialize V0 = initial probability * emission probability \n",
    "        Viterbi[0][i] = {\"prob\": initProb[i] * emissionProb[i][observation[0]], \"prev\": None}\n",
    "        print(\"V1 of \" + i + \" is \" + str(initProb[i] * emissionProb[i][observation[0]]))\n",
    "    \n",
    "    print(\"\\n\")\n",
    "    totalObservation = len(observation)\n",
    "    for n in range(1,totalObservation):\n",
    "        Viterbi.append({})\n",
    "        for j in states:\n",
    "            maxTransitionProb = Viterbi[n-1][states[0]][\"prob\"]*transitionProb[states[0]][j]\n",
    "            prevState = states[0]\n",
    "            for prev_st in states[1:]:\n",
    "                tr_prob = Viterbi[n-1][prev_st][\"prob\"]*transitionProb[prev_st][j]\n",
    "                if tr_prob > maxTransitionProb:\n",
    "                    maxTransitionProb = tr_prob #reassign max transition prob\n",
    "                    prevState = prev_st\n",
    "                    \n",
    "            maxProbability = maxTransitionProb * emissionProb[j][observation[n]]\n",
    "            Viterbi[n][j] = {\"prob\": maxProbability, \"prev\": prevState}\n",
    "            print(\"V\" + str(n+1) + \" of \" + j + \" is \" + str(maxProbability)) \n",
    "        print(\"\\n\")\n",
    "   \n",
    "    opt = [] \n",
    "    # The highest probability\n",
    "    maxProbability = max(value[\"prob\"] for value in Viterbi[-1].values())\n",
    "    previous = None\n",
    "    \n",
    "    for st, data in Viterbi[-1].items():\n",
    "        if data[\"prob\"] == maxProbability:\n",
    "            opt.append(st)\n",
    "            previous = st\n",
    "            break\n",
    "    # Follow the path backwards to trace the path\n",
    "    for k in range(len(Viterbi) - 2, -1, -1):\n",
    "        opt.insert(0, Viterbi[k + 1][previous][\"prev\"])\n",
    "        previous = Viterbi[k + 1][previous][\"prev\"]\n",
    "\n",
    "    print ('The sequence of states are ' + ' '.join(opt) + ' with maximum probability of %s' % maxProbability)\n"
   ]
  },
  {
   "cell_type": "code",
   "execution_count": 91,
   "metadata": {},
   "outputs": [
    {
     "name": "stdout",
     "output_type": "stream",
     "text": [
      "V1 of VB is 0.0\n",
      "V1 of TO is 0.0\n",
      "V1 of NN is 0.0\n",
      "V1 of PPSS is 0.02479\n",
      "\n",
      "\n",
      "V2 of VB is 5.3025810000000004e-05\n",
      "V2 of TO is 0.0\n",
      "V2 of NN is 1.6063919999999999e-09\n",
      "V2 of PPSS is 0.0\n",
      "\n",
      "\n",
      "V3 of VB is 0.0\n",
      "V3 of TO is 1.8373443165000004e-06\n",
      "V3 of NN is 0.0\n",
      "V3 of PPSS is 0.0\n",
      "\n",
      "\n",
      "V4 of VB is 1.8299949392340004e-10\n",
      "V4 of TO is 0.0\n",
      "V4 of NN is 4.922245423903501e-13\n",
      "V4 of PPSS is 0.0\n",
      "\n",
      "\n",
      "The sequence of states are PPSS VB TO VB with maximum probability of 1.8299949392340004e-10\n"
     ]
    }
   ],
   "source": [
    "observation = ('I', 'want', 'to','race')\n",
    "states = ('VB','TO','NN','PPSS')\n",
    "#assigning initial probabilities assuming V0<s> = 1; So transition probability from <s> are assigned as initial probabilities\n",
    "initProb = {'VB': 0.019, 'TO': 0.0043,'NN':0.041, 'PPSS':0.067}\n",
    "transitionProb = {\n",
    "   \n",
    "   'VB' : {'VB': 0.0038, 'TO': 0.035,'NN':0.047, 'PPSS':0.0070},\n",
    "     'TO' : {'VB': 0.83, 'TO': 0,'NN':0.00047, 'PPSS':0},\n",
    "    'NN' : {'VB': 0.0040, 'TO': 0.016,'NN':0.087, 'PPSS':0.0045},\n",
    "    'PPSS' : {'VB': 0.23, 'TO': 0.00079,'NN':0.0012, 'PPSS':0.00014},\n",
    "   }\n",
    "emissionProb = {\n",
    "      \n",
    "      'VB' : {'I': 0, 'want': 0.0093, 'to': 0, 'race':0.00012},\n",
    "   'TO' : {'I': 0, 'want': 0, 'to': 0.99, 'race':0},\n",
    "    'NN' : {'I': 0, 'want': 0.000054, 'to': 0, 'race':0.00057},\n",
    "    'PPSS' : {'I': 0.37, 'want': 0, 'to': 0, 'race':0},\n",
    "   }\n",
    "viterbi(observation,\n",
    "        states,\n",
    "        initProb,\n",
    "        transitionProb,\n",
    "        emissionProb)"
   ]
  },
  {
   "cell_type": "code",
   "execution_count": null,
   "metadata": {},
   "outputs": [],
   "source": []
  }
 ],
 "metadata": {
  "kernelspec": {
   "display_name": "Python 3",
   "language": "python",
   "name": "python3"
  },
  "language_info": {
   "codemirror_mode": {
    "name": "ipython",
    "version": 3
   },
   "file_extension": ".py",
   "mimetype": "text/x-python",
   "name": "python",
   "nbconvert_exporter": "python",
   "pygments_lexer": "ipython3",
   "version": "3.7.3"
  }
 },
 "nbformat": 4,
 "nbformat_minor": 2
}
