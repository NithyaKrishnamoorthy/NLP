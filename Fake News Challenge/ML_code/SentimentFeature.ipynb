{
 "cells": [
  {
   "cell_type": "code",
   "execution_count": 1,
   "metadata": {},
   "outputs": [],
   "source": [
    "import numpy as np\n",
    "import pandas as pd\n",
    "from nltk.sentiment.vader import SentimentIntensityAnalyzer\n",
    "from nltk.tokenize import sent_tokenize\n",
    "import dill as pickle\n",
    "import nltk"
   ]
  },
  {
   "cell_type": "code",
   "execution_count": 2,
   "metadata": {},
   "outputs": [],
   "source": [
    "dataset=pd.read_csv('train_data.csv')\n",
    "df=dataset[:]"
   ]
  },
  {
   "cell_type": "code",
   "execution_count": 3,
   "metadata": {},
   "outputs": [
    {
     "data": {
      "text/html": [
       "<div>\n",
       "<style scoped>\n",
       "    .dataframe tbody tr th:only-of-type {\n",
       "        vertical-align: middle;\n",
       "    }\n",
       "\n",
       "    .dataframe tbody tr th {\n",
       "        vertical-align: top;\n",
       "    }\n",
       "\n",
       "    .dataframe thead th {\n",
       "        text-align: right;\n",
       "    }\n",
       "</style>\n",
       "<table border=\"1\" class=\"dataframe\">\n",
       "  <thead>\n",
       "    <tr style=\"text-align: right;\">\n",
       "      <th></th>\n",
       "      <th>Headline</th>\n",
       "      <th>Body ID</th>\n",
       "      <th>Stance</th>\n",
       "      <th>articleBody</th>\n",
       "      <th>Headline_processed</th>\n",
       "      <th>Body_processed</th>\n",
       "    </tr>\n",
       "  </thead>\n",
       "  <tbody>\n",
       "    <tr>\n",
       "      <th>0</th>\n",
       "      <td>Police find mass graves with at least '15 bodi...</td>\n",
       "      <td>712</td>\n",
       "      <td>unrelated</td>\n",
       "      <td>Danny Boyle is directing the untitled film\\r\\n...</td>\n",
       "      <td>['polic', 'find', 'mass', 'grave', 'least', 'b...</td>\n",
       "      <td>['danni', 'boyl', 'direct', 'untitl', 'film', ...</td>\n",
       "    </tr>\n",
       "    <tr>\n",
       "      <th>1</th>\n",
       "      <td>Hundreds of Palestinians flee floods in Gaza a...</td>\n",
       "      <td>158</td>\n",
       "      <td>agree</td>\n",
       "      <td>Hundreds of Palestinians were evacuated from t...</td>\n",
       "      <td>['hundr', 'palestinian', 'flee', 'flood', 'gaz...</td>\n",
       "      <td>['hundr', 'palestinian', 'evacu', 'home', 'sun...</td>\n",
       "    </tr>\n",
       "    <tr>\n",
       "      <th>2</th>\n",
       "      <td>Christian Bale passes on role of Steve Jobs, a...</td>\n",
       "      <td>137</td>\n",
       "      <td>unrelated</td>\n",
       "      <td>30-year-old Moscow resident was hospitalized w...</td>\n",
       "      <td>['christian', 'bale', 'pass', 'role', 'steve',...</td>\n",
       "      <td>['moscow', 'resid', 'hospit', 'wound', 'intim'...</td>\n",
       "    </tr>\n",
       "    <tr>\n",
       "      <th>3</th>\n",
       "      <td>HBO and Apple in Talks for $15/Month Apple TV ...</td>\n",
       "      <td>1034</td>\n",
       "      <td>unrelated</td>\n",
       "      <td>(Reuters) - A Canadian soldier was shot at the...</td>\n",
       "      <td>['hbo', 'appl', 'talk', 'appl', 'tv', 'stream'...</td>\n",
       "      <td>['reuter', 'canadian', 'soldier', 'shot', 'can...</td>\n",
       "    </tr>\n",
       "    <tr>\n",
       "      <th>4</th>\n",
       "      <td>Spider burrowed through tourist's stomach and ...</td>\n",
       "      <td>1923</td>\n",
       "      <td>disagree</td>\n",
       "      <td>Fear not arachnophobes, the story of Bunbury's...</td>\n",
       "      <td>['spider', 'burrow', 'tourist', 'stomach', 'ch...</td>\n",
       "      <td>['fear', 'arachnophob', 'stori', 'bunburi', 's...</td>\n",
       "    </tr>\n",
       "  </tbody>\n",
       "</table>\n",
       "</div>"
      ],
      "text/plain": [
       "                                            Headline  Body ID     Stance  \\\n",
       "0  Police find mass graves with at least '15 bodi...      712  unrelated   \n",
       "1  Hundreds of Palestinians flee floods in Gaza a...      158      agree   \n",
       "2  Christian Bale passes on role of Steve Jobs, a...      137  unrelated   \n",
       "3  HBO and Apple in Talks for $15/Month Apple TV ...     1034  unrelated   \n",
       "4  Spider burrowed through tourist's stomach and ...     1923   disagree   \n",
       "\n",
       "                                         articleBody  \\\n",
       "0  Danny Boyle is directing the untitled film\\r\\n...   \n",
       "1  Hundreds of Palestinians were evacuated from t...   \n",
       "2  30-year-old Moscow resident was hospitalized w...   \n",
       "3  (Reuters) - A Canadian soldier was shot at the...   \n",
       "4  Fear not arachnophobes, the story of Bunbury's...   \n",
       "\n",
       "                                  Headline_processed  \\\n",
       "0  ['polic', 'find', 'mass', 'grave', 'least', 'b...   \n",
       "1  ['hundr', 'palestinian', 'flee', 'flood', 'gaz...   \n",
       "2  ['christian', 'bale', 'pass', 'role', 'steve',...   \n",
       "3  ['hbo', 'appl', 'talk', 'appl', 'tv', 'stream'...   \n",
       "4  ['spider', 'burrow', 'tourist', 'stomach', 'ch...   \n",
       "\n",
       "                                      Body_processed  \n",
       "0  ['danni', 'boyl', 'direct', 'untitl', 'film', ...  \n",
       "1  ['hundr', 'palestinian', 'evacu', 'home', 'sun...  \n",
       "2  ['moscow', 'resid', 'hospit', 'wound', 'intim'...  \n",
       "3  ['reuter', 'canadian', 'soldier', 'shot', 'can...  \n",
       "4  ['fear', 'arachnophob', 'stori', 'bunburi', 's...  "
      ]
     },
     "execution_count": 3,
     "metadata": {},
     "output_type": "execute_result"
    }
   ],
   "source": [
    "df.head()"
   ]
  },
  {
   "cell_type": "code",
   "execution_count": 4,
   "metadata": {},
   "outputs": [],
   "source": [
    "def sentiment_process(df):\n",
    "    print('generating sentiment features')\n",
    "    print('for headline')\n",
    "    \n",
    "    sid = SentimentIntensityAnalyzer()\n",
    "    \n",
    "    def compute_sentiment(sentences):\n",
    "        result = []\n",
    "        for sentence in sentences:\n",
    "            vs=sid.polarity_scores(sentence)\n",
    "            result.append(vs)\n",
    "        return pd.DataFrame(result).mean()\n",
    "    \n",
    "    df['Headline_sents']=df['Headline'].apply(lambda x: sent_tokenize(x))\n",
    "    df = pd.concat([df, df['Headline_sents'].apply(lambda x: compute_sentiment(x))], axis=1)\n",
    "    df.rename(columns={'compound':'h_compound', 'neg':'h_neg', 'neu':'h_neu', 'pos':'h_pos'}, inplace=True)\n",
    "    headlineSenti = df[['h_compound','h_neg','h_neu','h_pos']].values\n",
    "    print('headlineSenti.shape:')\n",
    "    print(headlineSenti.shape)\n",
    "    \n",
    "    '''outfilename_hsenti_train = \"headline.senti.pkl\"\n",
    "    with open(outfilename_hsenti_train, \"wb\") as outfile:\n",
    "        pickle.dump(headlineSenti, outfile, -1)\n",
    "    print('headline sentiment features of training set saved in ', outfilename_hsenti_train)'''\n",
    "    \n",
    "    print('for body')\n",
    "    df['body_sents'] = df['articleBody'].map(lambda x: sent_tokenize(x))\n",
    "    df = pd.concat([df, df['body_sents'].apply(lambda x: compute_sentiment(x))], axis=1)\n",
    "    df.rename(columns={'compound':'b_compound', 'neg':'b_neg', 'neu':'b_neu', 'pos':'b_pos'}, inplace=True)\n",
    "    bodySenti = df[['b_compound','b_neg','b_neu','b_pos']].values\n",
    "    print('bodySenti.shape:')\n",
    "    print(bodySenti.shape)\n",
    "    \n",
    "    '''outfilename_bsenti_train = \"body.senti.pkl\"\n",
    "    with open(outfilename_bsenti_train, \"wb\") as outfile:\n",
    "        pickle.dump(bodySenti, outfile, -1)\n",
    "    print('body sentiment features of training set saved in ', outfilename_bsenti_train)'''\n",
    "    \n",
    "    return df"
   ]
  },
  {
   "cell_type": "code",
   "execution_count": 5,
   "metadata": {},
   "outputs": [
    {
     "name": "stdout",
     "output_type": "stream",
     "text": [
      "generating sentiment features\n",
      "for headline\n"
     ]
    },
    {
     "name": "stderr",
     "output_type": "stream",
     "text": [
      "D:\\anaconda\\installer\\lib\\site-packages\\ipykernel_launcher.py:14: SettingWithCopyWarning: \n",
      "A value is trying to be set on a copy of a slice from a DataFrame.\n",
      "Try using .loc[row_indexer,col_indexer] = value instead\n",
      "\n",
      "See the caveats in the documentation: http://pandas.pydata.org/pandas-docs/stable/indexing.html#indexing-view-versus-copy\n",
      "  \n"
     ]
    },
    {
     "name": "stdout",
     "output_type": "stream",
     "text": [
      "headlineSenti.shape:\n",
      "(49972, 4)\n",
      "for body\n",
      "bodySenti.shape:\n",
      "(49972, 4)\n"
     ]
    }
   ],
   "source": [
    "df_senti=sentiment_process(df)"
   ]
  },
  {
   "cell_type": "code",
   "execution_count": 6,
   "metadata": {},
   "outputs": [],
   "source": [
    "df_senti.to_csv('sentiment_features.csv')"
   ]
  },
  {
   "cell_type": "code",
   "execution_count": null,
   "metadata": {},
   "outputs": [],
   "source": []
  }
 ],
 "metadata": {
  "kernelspec": {
   "display_name": "Python 3",
   "language": "python",
   "name": "python3"
  },
  "language_info": {
   "codemirror_mode": {
    "name": "ipython",
    "version": 3
   },
   "file_extension": ".py",
   "mimetype": "text/x-python",
   "name": "python",
   "nbconvert_exporter": "python",
   "pygments_lexer": "ipython3",
   "version": "3.7.0"
  }
 },
 "nbformat": 4,
 "nbformat_minor": 2
}
