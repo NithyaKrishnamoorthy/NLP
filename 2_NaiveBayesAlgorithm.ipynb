{
 "cells": [
  {
   "cell_type": "code",
   "execution_count": 72,
   "metadata": {},
   "outputs": [],
   "source": [
    "import collections \n",
    "import numpy as np\n",
    "import pandas as pd\n",
    "from collections import Counter\n",
    "import operator"
   ]
  },
  {
   "cell_type": "markdown",
   "metadata": {},
   "source": [
    "## The data sample\n",
    "<table align=\"left\">\n",
    "    <tr>\n",
    "    <td>Type</td>\n",
    "    <td>No</td>\n",
    "    <td>Doc</td>\n",
    "    <td>Class</td>\n",
    "    </tr>\n",
    "<tr>\n",
    "    <td>Training</td>\n",
    "    <td>1</td>\n",
    "    <td>Chinese Beijing Chinese</td>\n",
    "    <td>c</td>\n",
    "</tr>  \n",
    "    <tr>\n",
    "    <td>Training</td>\n",
    "    <td>2</td>\n",
    "    <td>Chinese Chinese Shanghai</td>\n",
    "    <td>c</td>\n",
    "</tr> \n",
    "    <tr>\n",
    "    <td>Training</td>\n",
    "    <td>3</td>\n",
    "    <td>Chinese Macao</td>\n",
    "    <td>c</td>\n",
    "</tr> \n",
    "    <tr>\n",
    "    <td>Training</td>\n",
    "    <td>4</td>\n",
    "    <td>Tokyo Japan Chinese</td>\n",
    "    <td>j</td>\n",
    "</tr> \n",
    "     <tr>\n",
    "    <td>Test</td>\n",
    "    <td>5</td>\n",
    "    <td>Chinese Chinese Chinese Tokyo Japan</td>\n",
    "    <td>?</td>\n",
    "</tr> \n",
    "</table>\n"
   ]
  },
  {
   "cell_type": "code",
   "execution_count": 73,
   "metadata": {},
   "outputs": [
    {
     "data": {
      "text/html": [
       "<div>\n",
       "<style scoped>\n",
       "    .dataframe tbody tr th:only-of-type {\n",
       "        vertical-align: middle;\n",
       "    }\n",
       "\n",
       "    .dataframe tbody tr th {\n",
       "        vertical-align: top;\n",
       "    }\n",
       "\n",
       "    .dataframe thead th {\n",
       "        text-align: right;\n",
       "    }\n",
       "</style>\n",
       "<table border=\"1\" class=\"dataframe\">\n",
       "  <thead>\n",
       "    <tr style=\"text-align: right;\">\n",
       "      <th></th>\n",
       "      <th>Doc</th>\n",
       "      <th>class</th>\n",
       "    </tr>\n",
       "  </thead>\n",
       "  <tbody>\n",
       "    <tr>\n",
       "      <th>0</th>\n",
       "      <td>Chinese Beijing Chinese</td>\n",
       "      <td>c</td>\n",
       "    </tr>\n",
       "    <tr>\n",
       "      <th>1</th>\n",
       "      <td>Chinese Chinese Shanghai</td>\n",
       "      <td>c</td>\n",
       "    </tr>\n",
       "    <tr>\n",
       "      <th>2</th>\n",
       "      <td>Chinese Macao</td>\n",
       "      <td>c</td>\n",
       "    </tr>\n",
       "    <tr>\n",
       "      <th>3</th>\n",
       "      <td>Tokyo Japan Chinese</td>\n",
       "      <td>j</td>\n",
       "    </tr>\n",
       "  </tbody>\n",
       "</table>\n",
       "</div>"
      ],
      "text/plain": [
       "                        Doc class\n",
       "0   Chinese Beijing Chinese     c\n",
       "1  Chinese Chinese Shanghai     c\n",
       "2             Chinese Macao     c\n",
       "3       Tokyo Japan Chinese     j"
      ]
     },
     "execution_count": 73,
     "metadata": {},
     "output_type": "execute_result"
    }
   ],
   "source": [
    "trainingdata = pd.DataFrame()\n",
    "\n",
    "trainingdata['Doc'] = ['Chinese Beijing Chinese','Chinese Chinese Shanghai','Chinese Macao','Tokyo Japan Chinese']\n",
    "\n",
    "trainingdata['class'] = ['c','c','c','j']\n",
    "\n",
    "trainingdata"
   ]
  },
  {
   "cell_type": "code",
   "execution_count": 74,
   "metadata": {},
   "outputs": [
    {
     "data": {
      "text/html": [
       "<div>\n",
       "<style scoped>\n",
       "    .dataframe tbody tr th:only-of-type {\n",
       "        vertical-align: middle;\n",
       "    }\n",
       "\n",
       "    .dataframe tbody tr th {\n",
       "        vertical-align: top;\n",
       "    }\n",
       "\n",
       "    .dataframe thead th {\n",
       "        text-align: right;\n",
       "    }\n",
       "</style>\n",
       "<table border=\"1\" class=\"dataframe\">\n",
       "  <thead>\n",
       "    <tr style=\"text-align: right;\">\n",
       "      <th></th>\n",
       "      <th>Doc</th>\n",
       "    </tr>\n",
       "  </thead>\n",
       "  <tbody>\n",
       "    <tr>\n",
       "      <th>0</th>\n",
       "      <td>Chinese Chinese Chinese Tokyo Japan</td>\n",
       "    </tr>\n",
       "  </tbody>\n",
       "</table>\n",
       "</div>"
      ],
      "text/plain": [
       "                                   Doc\n",
       "0  Chinese Chinese Chinese Tokyo Japan"
      ]
     },
     "execution_count": 74,
     "metadata": {},
     "output_type": "execute_result"
    }
   ],
   "source": [
    "testdata = pd.DataFrame()\n",
    "\n",
    "testdata['Doc'] = ['Chinese Chinese Chinese Tokyo Japan']\n",
    "\n",
    "testdata"
   ]
  },
  {
   "cell_type": "markdown",
   "metadata": {},
   "source": [
    "### Calculate prior probability of each class"
   ]
  },
  {
   "cell_type": "code",
   "execution_count": 75,
   "metadata": {},
   "outputs": [],
   "source": [
    "def priorprob(df,thisClass):\n",
    "    totalClass = df['class'].count()\n",
    "    \n",
    "    count_thisClass = df['class'][df['class'] == thisClass].count()\n",
    "    priorprobVal = count_thisClass / totalClass # count of each class divided by total no of classes\n",
    "    return priorprobVal"
   ]
  },
  {
   "cell_type": "code",
   "execution_count": 76,
   "metadata": {},
   "outputs": [
    {
     "name": "stdout",
     "output_type": "stream",
     "text": [
      "prior probability of class c is 0.75\n",
      "prior probability of class j is 0.25\n"
     ]
    }
   ],
   "source": [
    "trainingdata['class'].value_counts()\n",
    "\n",
    "classlist = trainingdata['class'].unique().tolist()\n",
    "\n",
    "for thisClass in classlist:     \n",
    "    p = priorprob(trainingdata,thisClass)\n",
    "    print(\"prior probability of class \" + thisClass + \" is \" + str(p))"
   ]
  },
  {
   "cell_type": "markdown",
   "metadata": {},
   "source": [
    "### Calculate likelihood & Posterior Probabilities\n",
    "\n",
    "For each word w<sub>k</sub> in the vocabulary, calculate the number of occurrences of w<sub>k</sub>\n",
    "    "
   ]
  },
  {
   "cell_type": "code",
   "execution_count": 77,
   "metadata": {},
   "outputs": [],
   "source": [
    "def condProb(wordOccurrence,totTokens,types):\n",
    "    condProbVal = (wordOccurrence + 1 )/ (totTokens + types)\n",
    "    return condProbVal"
   ]
  },
  {
   "cell_type": "code",
   "execution_count": 78,
   "metadata": {},
   "outputs": [],
   "source": [
    "def posteriorProb(df):\n",
    "    \n",
    "    llhdict = {} #likelihood dictionary\n",
    "    ppdict = {} #posterior prob values dictionary\n",
    "    \n",
    "    testdataWords =  Counter(\" \".join(df['Doc']).split(\" \")).items()\n",
    "\n",
    "    uniqueWords = list(set(\" \".join(trainingdata['Doc']).lower().split(\" \")))\n",
    "    types = len(uniqueWords)\n",
    "    \n",
    "    for i in classlist:\n",
    "        #create subset for this class\n",
    "        trainingdata_i = trainingdata[trainingdata['class']==i]\n",
    "\n",
    "        wordCountDict = Counter(\" \".join(trainingdata_i['Doc']).split(\" \"))\n",
    "    \n",
    "        #count of all words in the class\n",
    "        allwords_i = list(trainingdata_i['Doc'].str.split())\n",
    "\n",
    "        totalWords_i = 0;\n",
    "        for j in allwords_i:\n",
    "            totalWords_i+= len(j)\n",
    "\n",
    "        #calculate likelihood\n",
    "        for word in testdataWords:\n",
    "\n",
    "            total_occurrence =  wordCountDict[word[0]] #how many times has the word appeared in this class in training data\n",
    "            #calculate conditional probability of P(word|class)\n",
    "            likelihoodVal = condProb(total_occurrence,totalWords_i,types)\n",
    "            print(\"P(\" + word[0] + \"|\"+i+\")\" + \": \" + str(likelihoodVal))\n",
    "            keyval = word[0]+\"|\"+i # P(word|class)\n",
    "            #form a dictionary of likelihood values\n",
    "            llhdict[keyval] = likelihoodVal\n",
    "            \n",
    "        print(\"\\n\")\n",
    "        \n",
    "        #initialize with prior probability value first\n",
    "        postProbVal = priorprob(trainingdata,i)\n",
    "        \n",
    "        testTokens = df['Doc'].str.split(\" \")\n",
    "\n",
    "        for k in testTokens[0]:\n",
    "            keyval2 = k +\"|\"+i\n",
    "            postProbVal = postProbVal * llhdict[keyval2]\n",
    "        print(\"Posterior probability of class \" + i + \" given the test data : \" + str(postProbVal))\n",
    "        ppdict[i] = postProbVal\n",
    "        print(\"\\n\")\n",
    "       \n",
    "    print(\"The maximum of the posterior probabilities belong to class \" +max(ppdict.items(), key=operator.itemgetter(1))[0])"
   ]
  },
  {
   "cell_type": "code",
   "execution_count": 79,
   "metadata": {},
   "outputs": [
    {
     "name": "stdout",
     "output_type": "stream",
     "text": [
      "P(Chinese|c): 0.42857142857142855\n",
      "P(Tokyo|c): 0.07142857142857142\n",
      "P(Japan|c): 0.07142857142857142\n",
      "\n",
      "\n",
      "Posterior probability of class c given the test data : 0.00030121377997263036\n",
      "\n",
      "\n",
      "P(Chinese|j): 0.2222222222222222\n",
      "P(Tokyo|j): 0.2222222222222222\n",
      "P(Japan|j): 0.2222222222222222\n",
      "\n",
      "\n",
      "Posterior probability of class j given the test data : 0.00013548070246744226\n",
      "\n",
      "\n",
      "The maximum of the posterior probabilities belong to class c\n"
     ]
    }
   ],
   "source": [
    "posteriorProb(testdata)"
   ]
  },
  {
   "cell_type": "code",
   "execution_count": null,
   "metadata": {},
   "outputs": [],
   "source": []
  },
  {
   "cell_type": "code",
   "execution_count": null,
   "metadata": {},
   "outputs": [],
   "source": []
  }
 ],
 "metadata": {
  "kernelspec": {
   "display_name": "Python 3",
   "language": "python",
   "name": "python3"
  },
  "language_info": {
   "codemirror_mode": {
    "name": "ipython",
    "version": 3
   },
   "file_extension": ".py",
   "mimetype": "text/x-python",
   "name": "python",
   "nbconvert_exporter": "python",
   "pygments_lexer": "ipython3",
   "version": "3.7.3"
  }
 },
 "nbformat": 4,
 "nbformat_minor": 2
}
