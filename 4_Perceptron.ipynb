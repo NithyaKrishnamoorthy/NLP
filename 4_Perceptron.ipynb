{
 "cells": [
  {
   "cell_type": "code",
   "execution_count": 6,
   "metadata": {},
   "outputs": [],
   "source": [
    "import numpy as np"
   ]
  },
  {
   "cell_type": "code",
   "execution_count": 7,
   "metadata": {},
   "outputs": [
    {
     "name": "stdout",
     "output_type": "stream",
     "text": [
      "[[0 0 1 1]\n",
      " [1 1 1 1]\n",
      " [1 0 1 1]\n",
      " [0 1 1 1]]\n",
      "4\n"
     ]
    }
   ],
   "source": [
    "input = np.array([[0, 0, 1, 1], [1, 1, 1, 1],[1, 0, 1, 1],[0, 1, 1, 1]])\n",
    "\n",
    "print(input)\n",
    "print(len(input))"
   ]
  },
  {
   "cell_type": "code",
   "execution_count": 8,
   "metadata": {},
   "outputs": [
    {
     "name": "stdout",
     "output_type": "stream",
     "text": [
      "[0 1 1 0]\n"
     ]
    }
   ],
   "source": [
    "output = np.array([0, 1, 1, 0])\n",
    "\n",
    "print(output)"
   ]
  },
  {
   "cell_type": "code",
   "execution_count": 9,
   "metadata": {},
   "outputs": [],
   "source": [
    "def perceptron(input, output, epoch):\n",
    "    \n",
    "    #initialize weights\n",
    "    weight = np.zeros(len(input))\n",
    "    netarray = np.ones(len(output)) \n",
    "\n",
    "    #learning rate c=1\n",
    "    c= 1\n",
    "    \n",
    "    ctr = 0 \n",
    "    \n",
    "    while ctr < epoch:\n",
    "        \n",
    "        for j in range(len(input)):\n",
    "            \n",
    "            #calculate x.w\n",
    "            totalinp = np.dot(input[j],weight)\n",
    "            \n",
    "            if(totalinp > 0):\n",
    "                net = 1\n",
    "            else:\n",
    "                net = 0\n",
    "            netarray[j] = net\n",
    "            \n",
    "            #calculate delta w\n",
    "            for k in range(len(weight)):\n",
    "                weight[k] = weight[k] + (c * (output[j] - net) * input[j][k])\n",
    "            \n",
    "        ctr = ctr + 1\n",
    "            \n",
    "    return weight, netarray"
   ]
  },
  {
   "cell_type": "code",
   "execution_count": 10,
   "metadata": {},
   "outputs": [
    {
     "data": {
      "text/plain": [
       "(array([1., 0., 0., 0.]), array([0., 1., 1., 0.]))"
      ]
     },
     "execution_count": 10,
     "metadata": {},
     "output_type": "execute_result"
    }
   ],
   "source": [
    "#running for 2 epochs\n",
    "perceptron(input,output,2)\n",
    "\n",
    "#output is weight and net input at the end of the iterations\n"
   ]
  },
  {
   "cell_type": "code",
   "execution_count": null,
   "metadata": {},
   "outputs": [],
   "source": []
  },
  {
   "cell_type": "code",
   "execution_count": null,
   "metadata": {},
   "outputs": [],
   "source": []
  }
 ],
 "metadata": {
  "kernelspec": {
   "display_name": "Python 3",
   "language": "python",
   "name": "python3"
  },
  "language_info": {
   "codemirror_mode": {
    "name": "ipython",
    "version": 3
   },
   "file_extension": ".py",
   "mimetype": "text/x-python",
   "name": "python",
   "nbconvert_exporter": "python",
   "pygments_lexer": "ipython3",
   "version": "3.7.3"
  }
 },
 "nbformat": 4,
 "nbformat_minor": 2
}
