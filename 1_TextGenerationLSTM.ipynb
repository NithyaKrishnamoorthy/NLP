{
 "cells": [
  {
   "cell_type": "code",
   "execution_count": 2,
   "metadata": {},
   "outputs": [
    {
     "name": "stderr",
     "output_type": "stream",
     "text": [
      "Using TensorFlow backend.\n"
     ]
    }
   ],
   "source": [
    "from keras.models import Sequential\n",
    "from keras.layers import Dense, Embedding, LSTM\n",
    "from keras.preprocessing.text import Tokenizer\n",
    "from keras.utils import to_categorical\n",
    "import numpy as np"
   ]
  },
  {
   "cell_type": "code",
   "execution_count": 3,
   "metadata": {},
   "outputs": [],
   "source": [
    "data = \"Planetary science is the study of the assemblage of planets, moons, dwarf planets, comets, asteroids, and other bodies orbiting the Sun, as well as extrasolar planets. The Solar System has been relatively well-studied, initially through telescopes and then later by spacecraft. This has provided a good overall understanding of the formation and evolution of the Sun's planetary system, although many new discoveries are still being made.\""
   ]
  },
  {
   "cell_type": "markdown",
   "metadata": {},
   "source": [
    "#### Tokenize the data"
   ]
  },
  {
   "cell_type": "code",
   "execution_count": 4,
   "metadata": {},
   "outputs": [],
   "source": [
    "tokenizer = Tokenizer()\n",
    "tokenizer.fit_on_texts([data])"
   ]
  },
  {
   "cell_type": "markdown",
   "metadata": {},
   "source": [
    "#### Sequence the data"
   ]
  },
  {
   "cell_type": "code",
   "execution_count": 5,
   "metadata": {},
   "outputs": [
    {
     "data": {
      "text/plain": [
       "[5, 10, 11, 1, 12, 2, 1, 13, 2, 3]"
      ]
     },
     "execution_count": 5,
     "metadata": {},
     "output_type": "execute_result"
    }
   ],
   "source": [
    "sequence = tokenizer.texts_to_sequences([data])[0]\n",
    "sequence[:10]"
   ]
  },
  {
   "cell_type": "markdown",
   "metadata": {},
   "source": [
    "#### Token index and number of tokens"
   ]
  },
  {
   "cell_type": "code",
   "execution_count": 6,
   "metadata": {},
   "outputs": [
    {
     "data": {
      "text/plain": [
       "{'a': 36,\n",
       " 'although': 43,\n",
       " 'and': 4,\n",
       " 'are': 47,\n",
       " 'as': 6,\n",
       " 'assemblage': 13,\n",
       " 'asteroids': 17,\n",
       " 'been': 24,\n",
       " 'being': 49,\n",
       " 'bodies': 19,\n",
       " 'by': 32,\n",
       " 'comets': 16,\n",
       " 'discoveries': 46,\n",
       " 'dwarf': 15,\n",
       " 'evolution': 41,\n",
       " 'extrasolar': 22,\n",
       " 'formation': 40,\n",
       " 'good': 37,\n",
       " 'has': 9,\n",
       " 'initially': 27,\n",
       " 'is': 11,\n",
       " 'later': 31,\n",
       " 'made': 50,\n",
       " 'many': 44,\n",
       " 'moons': 14,\n",
       " 'new': 45,\n",
       " 'of': 2,\n",
       " 'orbiting': 20,\n",
       " 'other': 18,\n",
       " 'overall': 38,\n",
       " 'planetary': 5,\n",
       " 'planets': 3,\n",
       " 'provided': 35,\n",
       " 'relatively': 25,\n",
       " 'science': 10,\n",
       " 'solar': 23,\n",
       " 'spacecraft': 33,\n",
       " 'still': 48,\n",
       " 'studied': 26,\n",
       " 'study': 12,\n",
       " 'sun': 21,\n",
       " \"sun's\": 42,\n",
       " 'system': 8,\n",
       " 'telescopes': 29,\n",
       " 'the': 1,\n",
       " 'then': 30,\n",
       " 'this': 34,\n",
       " 'through': 28,\n",
       " 'understanding': 39,\n",
       " 'well': 7}"
      ]
     },
     "execution_count": 6,
     "metadata": {},
     "output_type": "execute_result"
    }
   ],
   "source": [
    "tokens = tokenizer.word_index\n",
    "tokens"
   ]
  },
  {
   "cell_type": "code",
   "execution_count": 7,
   "metadata": {},
   "outputs": [],
   "source": [
    "#printing bi-grams from the sequences\n",
    "\n",
    "sequences = []\n",
    "for i in range(1,len(sequence)):\n",
    "    seq = sequence[i-1:i+1]\n",
    "    sequences.append(seq)\n",
    "sequences = np.array(sequences)"
   ]
  },
  {
   "cell_type": "code",
   "execution_count": 8,
   "metadata": {},
   "outputs": [],
   "source": [
    "train_x, train_y = sequences[:,0], sequences[:,1]\n",
    "train_y = to_categorical(train_y, num_classes=len(tokens)+1)"
   ]
  },
  {
   "cell_type": "markdown",
   "metadata": {},
   "source": [
    "#### LSTM "
   ]
  },
  {
   "cell_type": "code",
   "execution_count": 9,
   "metadata": {},
   "outputs": [],
   "source": [
    "tokens = len(tokenizer.word_index) + 1\n",
    "model=Sequential()\n",
    "model.add(Embedding(tokens,10,input_length=1))\n",
    "model.add(LSTM(32))\n",
    "model.add(Dense(tokens,activation=\"softmax\"))\n",
    "\n",
    "model.compile(loss=\"categorical_crossentropy\", optimizer=\"adam\", metrics=[\"accuracy\"])"
   ]
  },
  {
   "cell_type": "code",
   "execution_count": 20,
   "metadata": {},
   "outputs": [
    {
     "data": {
      "text/plain": [
       "<keras.callbacks.History at 0x1bbceeec518>"
      ]
     },
     "execution_count": 20,
     "metadata": {},
     "output_type": "execute_result"
    }
   ],
   "source": [
    "model.fit(train_x, train_y, epochs=1000, verbose=0)"
   ]
  },
  {
   "cell_type": "markdown",
   "metadata": {},
   "source": [
    "#### Predict the next 6 words given a word"
   ]
  },
  {
   "cell_type": "code",
   "execution_count": 21,
   "metadata": {},
   "outputs": [],
   "source": [
    "def generate_text(input_text):\n",
    "    result = input_text\n",
    "    \n",
    "    for i in range(6):\n",
    "        seq = np.array(tokenizer.texts_to_sequences([input_text])[0])\n",
    "        pred_seq = model.predict_classes(seq)\n",
    "        \n",
    "        for word, index in tokenizer.word_index.items():\n",
    "            if index==pred_seq:\n",
    "                out_word = word\n",
    "                break\n",
    "        input_text = out_word\n",
    "        result = result + \" \" + out_word\n",
    "        \n",
    "    return result\n"
   ]
  },
  {
   "cell_type": "code",
   "execution_count": 24,
   "metadata": {},
   "outputs": [
    {
     "data": {
      "text/plain": [
       "'been relatively well studied initially through telescopes'"
      ]
     },
     "execution_count": 24,
     "metadata": {},
     "output_type": "execute_result"
    }
   ],
   "source": [
    "generate_text(\"been\")"
   ]
  },
  {
   "cell_type": "code",
   "execution_count": 23,
   "metadata": {},
   "outputs": [
    {
     "name": "stdout",
     "output_type": "stream",
     "text": [
      "Planetary science is the study of the assemblage of planets, moons, dwarf planets, comets, asteroids, and other bodies orbiting the Sun, as well as extrasolar planets. The Solar System has been relatively well-studied, initially through telescopes and then later by spacecraft. This has provided a good overall understanding of the formation and evolution of the Sun's planetary system, although many new discoveries are still being made.\n"
     ]
    }
   ],
   "source": [
    "#print original data\n",
    "print(data)"
   ]
  },
  {
   "cell_type": "code",
   "execution_count": null,
   "metadata": {},
   "outputs": [],
   "source": []
  }
 ],
 "metadata": {
  "kernelspec": {
   "display_name": "Python 3",
   "language": "python",
   "name": "python3"
  },
  "language_info": {
   "codemirror_mode": {
    "name": "ipython",
    "version": 3
   },
   "file_extension": ".py",
   "mimetype": "text/x-python",
   "name": "python",
   "nbconvert_exporter": "python",
   "pygments_lexer": "ipython3",
   "version": "3.5.6"
  }
 },
 "nbformat": 4,
 "nbformat_minor": 2
}
